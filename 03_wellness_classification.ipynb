# 📒 03_wellness_classification.ipynb (Python version for reference)

import pandas as pd

# Load sentiment-labeled data from Module 4
df_sentiment = pd.read_csv("../outputs/sentiment_labeled.csv")

# Load attrition risk scores from Module 3 (assume you have this CSV)
df_attrition = pd.read_csv("../outputs/attrition_scores.csv")  # Should contain 'employee_id', 'attrition_score'

# Merge both datasets
merged = pd.merge(df_sentiment, df_attrition, on="employee_id")

# Define thresholds for classification
def classify_wellness(row):
    if row['avg_sentiment'] <= -0.2 and row['attrition_score'] >= 0.7:
        return "At Risk"
    elif row['avg_sentiment'] >= 0.2 and row['attrition_score'] < 0.4:
        return "Thriving"
    else:
        return "Stable"

merged['wellness_status'] = merged.apply(classify_wellness, axis=1)

# Save output
merged.to_csv("../outputs/wellness_labels.csv", index=False)

# Count and display
print(merged['wellness_status'].value_counts())
