# 📒 04_topic_modeling.ipynb (Python version for reference)

import pandas as pd
import gensim
from gensim import corpora
from wordcloud import WordCloud
import matplotlib.pyplot as plt

# Load data (lemmatized column from cleaned survey)
df = pd.read_csv("../outputs/cleaned_survey.csv")
texts = df['lemmatized'].dropna().tolist()

# Tokenize text
tokenized_texts = [text.split() for text in texts]

# Create dictionary and corpus
dictionary = corpora.Dictionary(tokenized_texts)
corpus = [dictionary.doc2bow(text) for text in tokenized_texts]

# Build LDA model
lda_model = gensim.models.LdaModel(corpus=corpus,
                                   id2word=dictionary,
                                   num_topics=5,
                                   random_state=42,
                                   passes=10,
                                   per_word_topics=True)

# Display topics
for idx, topic in lda_model.print_topics(-1):
    print(f"Topic {idx}: {topic}\n")

# Word cloud for each topic
topics = lda_model.show_topics(formatted=False)
for i, topic in topics:
    plt.figure()
    wordcloud = WordCloud(width=800, height=400, background_color='white').generate_from_frequencies(dict(topic[1]))
    plt.imshow(wordcloud, interpolation='bilinear')
    plt.axis("off")
    plt.title(f"Topic {i} Word Cloud")
    plt.show()
